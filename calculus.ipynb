{
 "cells": [
  {
   "cell_type": "code",
   "execution_count": null,
   "metadata": {},
   "outputs": [],
   "source": [
    "def f(x): \n",
    "  return x*0.25\n",
    "\n",
    "# avg rate of change of f(x) over interval [x, x + h]\n",
    "def der(f, x, h):\n",
    "  return (f(x + h) - f(x)) / h\n",
    "\n",
    "der(f = f, x = 50, h = 0.00000005)\n",
    "\n",
    "# gradient - direction of the steepest descent\n",
    "# ∇f(x, y) = [ df/dx, df/dy ], \n",
    "# e.g. f(x, y) = x*x + y*y \n",
    "# results in ∇f(x, y) = [ 2x, 2y ]"
   ]
  },
  {
   "cell_type": "code",
   "execution_count": null,
   "metadata": {},
   "outputs": [],
   "source": [
    "import math\n",
    "\n",
    "def is_point_inside_circle(x, y, center_x, center_y, radius):\n",
    "    # Calculate the distance from the point to the center of the circle\n",
    "    distance_squared = (x - center_x)**2 + (y - center_y)**2\n",
    "\n",
    "    # Check if the distance is less than or equal to the square of the radius\n",
    "    return distance_squared <= radius**2\n",
    "\n",
    "# Example usage\n",
    "circle_radius = 50\n",
    "circle_center_x = 30\n",
    "circle_center_y = 40\n",
    "point_x = 45\n",
    "point_y = 55\n",
    "\n",
    "if is_point_inside_circle(point_x, point_y, circle_center_x, circle_center_y, circle_radius):\n",
    "    print(f\"The point ({point_x}, {point_y}) is inside the circle.\")\n",
    "else:\n",
    "    print(f\"The point ({point_x}, {point_y}) is outside the circle.\")"
   ]
  }
 ],
 "metadata": {
  "language_info": {
   "name": "python"
  }
 },
 "nbformat": 4,
 "nbformat_minor": 2
}
