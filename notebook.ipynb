{
 "cells": [
  {
   "cell_type": "code",
   "execution_count": 1,
   "metadata": {},
   "outputs": [],
   "source": [
    "import math\n",
    "import numpy as np\n",
    "import matplotlib.pyplot as plt\n",
    "%matplotlib inline"
   ]
  },
  {
   "cell_type": "code",
   "execution_count": 2,
   "metadata": {},
   "outputs": [],
   "source": [
    "def f(x):\n",
    "  return 3*x**2 - 4*x + 5"
   ]
  },
  {
   "cell_type": "code",
   "execution_count": 3,
   "metadata": {},
   "outputs": [
    {
     "data": {
      "text/plain": [
       "20"
      ]
     },
     "execution_count": 3,
     "metadata": {},
     "output_type": "execute_result"
    }
   ],
   "source": [
    "f(3)"
   ]
  },
  {
   "cell_type": "code",
   "execution_count": 7,
   "metadata": {},
   "outputs": [
    {
     "data": {
      "text/plain": [
       "[<matplotlib.lines.Line2D at 0x117e5a850>]"
      ]
     },
     "execution_count": 7,
     "metadata": {},
     "output_type": "execute_result"
    },
    {
     "data": {
      "image/png": "[encoded data removed]",
      "text/plain": [
       "<Figure size 640x480 with 1 Axes>"
      ]
     },
     "metadata": {},
     "output_type": "display_data"
    }
   ],
   "source": [
    "xs = np.arange(-5, 5, 0.25)\n",
    "ys = f(xs)\n",
    "plt.plot(xs, ys)"
   ]
  },
  {
   "cell_type": "code",
   "execution_count": 17,
   "metadata": {},
   "outputs": [
    {
     "data": {
      "text/plain": [
       "-21.999997002808414"
      ]
     },
     "execution_count": 17,
     "metadata": {},
     "output_type": "execute_result"
    }
   ],
   "source": [
    "h = 0.000001\n",
    "x = -3.0\n",
    "(f(x + h) - f (x)) / h"
   ]
  },
  {
   "cell_type": "code",
   "execution_count": 21,
   "metadata": {},
   "outputs": [
    {
     "name": "stdout",
     "output_type": "stream",
     "text": [
      "d1 4.0\n",
      "d2 3.999699999999999\n",
      "slope -3.000000000010772\n"
     ]
    }
   ],
   "source": [
    "h = 0.0001\n",
    "\n",
    "a = 2.0\n",
    "b = -3.0\n",
    "c = 10.0\n",
    "\n",
    "d1 = a*b + c\n",
    "a += h\n",
    "d2 = a*b + c\n",
    "\n",
    "print('d1', d1)\n",
    "print('d2', d2)\n",
    "print('slope', (d2 - d1) / h)"
   ]
  },
  {
   "cell_type": "code",
   "execution_count": 22,
   "metadata": {},
   "outputs": [
    {
     "name": "stdout",
     "output_type": "stream",
     "text": [
      "d1 4.0\n",
      "d2 4.0002\n",
      "slope 2.0000000000042206\n"
     ]
    }
   ],
   "source": [
    "h = 0.0001\n",
    "\n",
    "a = 2.0\n",
    "b = -3.0\n",
    "c = 10.0\n",
    "\n",
    "d1 = a*b + c\n",
    "b += h\n",
    "d2 = a*b + c\n",
    "\n",
    "print('d1', d1)\n",
    "print('d2', d2)\n",
    "print('slope', (d2 - d1) / h)"
   ]
  },
  {
   "cell_type": "code",
   "execution_count": 75,
   "metadata": {},
   "outputs": [],
   "source": [
    "class Value:\n",
    "\n",
    "  def __init__(self, data, _children=(), _op='', label='') -> None:\n",
    "    self.data = data\n",
    "    self.grad = 0.0\n",
    "    self._prev = set(_children)\n",
    "    self._op = _op\n",
    "    self.label = label\n",
    "\n",
    "  def __repr__(self) -> str:\n",
    "    return f\"Value(data={self.data})\"\n",
    "  \n",
    "  def __add__(self, other):\n",
    "    return Value(self.data + other.data, _children = (self, other), _op = '+')\n",
    "  \n",
    "  def __mul__(self, other):\n",
    "    return Value(self.data * other.data, _children = (self, other), _op = '*')\n",
    "  \n",
    "a = Value(2.0, label='a')\n",
    "b = Value(-3.0, label='b')\n",
    "c = Value(10.0, label='c')\n",
    "e = a*b; e.label='e'\n",
    "\n",
    "d = e + c; d.label='d'\n",
    "\n",
    "f = Value(-2.0, label='f')\n",
    "L = d*f; L.label='L'"
   ]
  },
  {
   "cell_type": "code",
   "execution_count": 120,
   "metadata": {},
   "outputs": [],
   "source": [
    "from graphviz import Digraph\n",
    "\n",
    "def trace(root):\n",
    "\n",
    "  nodes, edges = set(), set()\n",
    "  def build(v):\n",
    "    if v not in nodes:\n",
    "      nodes.add(v)\n",
    "      for child in v._prev:\n",
    "        edges.add((child, v))\n",
    "        build(child)\n",
    "\n",
    "  build(root)\n",
    "  return nodes, edges\n",
    "\n",
    "def draw_dot(root):\n",
    "  dot = Digraph(format='svg', graph_attr={'rankdir':'LR'}) # LR - left to right\n",
    "  nodes, edges = trace(root)\n",
    "\n",
    "  for n in nodes:\n",
    "    uid = str(id(n))\n",
    "\n",
    "    dot.node(name=uid, label=\"{ %s | data %.4f | grad %.4f }\" % (n.label, n.data, n.grad), shape='record')\n",
    "    if n._op:\n",
    "      dot.node(name = uid + n._op, label= n._op)\n",
    "      dot.edge(uid + n._op, uid)\n",
    "\n",
    "  for n1, n2 in edges:\n",
    "    # connect n1 to the op node of n2\n",
    "    dot.edge(str(id(n1)), str(id(n2)) + n2._op)\n",
    "\n",
    "  return dot"
   ]
  },
  {
   "cell_type": "code",
   "execution_count": 121,
   "metadata": {},
   "outputs": [
    {
     "data": {
      "image/svg+xml": [
       "<?xml version=\"1.0\" encoding=\"UTF-8\" standalone=\"no\"?>\n",
       "<!DOCTYPE svg PUBLIC \"-//W3C//DTD SVG 1.1//EN\"\n",
       " \"http://www.w3.org/Graphics/SVG/1.1/DTD/svg11.dtd\">\n",
       "<!-- Generated by graphviz version 10.0.1 (20240210.2158)\n",
       " -->\n",
       "<!-- Pages: 1 -->\n",
       "<svg width=\"1151pt\" height=\"128pt\"\n",
       " viewBox=\"0.00 0.00 1151.00 128.00\" xmlns=\"http://www.w3.org/2000/svg\" xmlns:xlink=\"http://www.w3.org/1999/xlink\">\n",
       "<g id=\"graph0\" class=\"graph\" transform=\"scale(1 1) rotate(0) translate(4 124)\">\n",
       "<polygon fill=\"white\" stroke=\"none\" points=\"-4,4 -4,-124 1147,-124 1147,4 -4,4\"/>\n",
       "<!-- 4865731664 -->\n",
       "<g id=\"node1\" class=\"node\">\n",
       "<title>4865731664</title>\n",
       "<polygon fill=\"none\" stroke=\"black\" points=\"318.75,-83.5 318.75,-119.5 513,-119.5 513,-83.5 318.75,-83.5\"/>\n",
       "<text text-anchor=\"middle\" x=\"329.75\" y=\"-96.7\" font-family=\"Times,serif\" font-size=\"14.00\">c</text>\n",
       "<polyline fill=\"none\" stroke=\"black\" points=\"340.75,-84 340.75,-119.5\"/>\n",
       "<text text-anchor=\"middle\" x=\"384\" y=\"-96.7\" font-family=\"Times,serif\" font-size=\"14.00\">data 10.0000</text>\n",
       "<polyline fill=\"none\" stroke=\"black\" points=\"427.25,-84 427.25,-119.5\"/>\n",
       "<text text-anchor=\"middle\" x=\"470.12\" y=\"-96.7\" font-family=\"Times,serif\" font-size=\"14.00\">grad &#45;2.0000</text>\n",
       "</g>\n",
       "<!-- 4871460624+ -->\n",
       "<g id=\"node6\" class=\"node\">\n",
       "<title>4871460624+</title>\n",
       "<ellipse fill=\"none\" stroke=\"black\" cx=\"576\" cy=\"-73.5\" rx=\"27\" ry=\"18\"/>\n",
       "<text text-anchor=\"middle\" x=\"576\" y=\"-68.45\" font-family=\"Times,serif\" font-size=\"14.00\">+</text>\n",
       "</g>\n",
       "<!-- 4865731664&#45;&gt;4871460624+ -->\n",
       "<g id=\"edge4\" class=\"edge\">\n",
       "<title>4865731664&#45;&gt;4871460624+</title>\n",
       "<path fill=\"none\" stroke=\"black\" d=\"M513.41,-84.41C522.21,-82.85 530.7,-81.34 538.42,-79.98\"/>\n",
       "<polygon fill=\"black\" stroke=\"black\" points=\"538.77,-83.47 548,-78.28 537.55,-76.58 538.77,-83.47\"/>\n",
       "</g>\n",
       "<!-- 4696649296 -->\n",
       "<g id=\"node2\" class=\"node\">\n",
       "<title>4696649296</title>\n",
       "<polygon fill=\"none\" stroke=\"black\" points=\"4.88,-56.5 4.88,-92.5 187.88,-92.5 187.88,-56.5 4.88,-56.5\"/>\n",
       "<text text-anchor=\"middle\" x=\"15.88\" y=\"-69.7\" font-family=\"Times,serif\" font-size=\"14.00\">a</text>\n",
       "<polyline fill=\"none\" stroke=\"black\" points=\"26.88,-57 26.88,-92.5\"/>\n",
       "<text text-anchor=\"middle\" x=\"66.75\" y=\"-69.7\" font-family=\"Times,serif\" font-size=\"14.00\">data 2.0000</text>\n",
       "<polyline fill=\"none\" stroke=\"black\" points=\"106.62,-57 106.62,-92.5\"/>\n",
       "<text text-anchor=\"middle\" x=\"147.25\" y=\"-69.7\" font-family=\"Times,serif\" font-size=\"14.00\">grad 6.0000</text>\n",
       "</g>\n",
       "<!-- 4690231504* -->\n",
       "<g id=\"node4\" class=\"node\">\n",
       "<title>4690231504*</title>\n",
       "<ellipse fill=\"none\" stroke=\"black\" cx=\"255.75\" cy=\"-46.5\" rx=\"27\" ry=\"18\"/>\n",
       "<text text-anchor=\"middle\" x=\"255.75\" y=\"-41.45\" font-family=\"Times,serif\" font-size=\"14.00\">*</text>\n",
       "</g>\n",
       "<!-- 4696649296&#45;&gt;4690231504* -->\n",
       "<g id=\"edge9\" class=\"edge\">\n",
       "<title>4696649296&#45;&gt;4690231504*</title>\n",
       "<path fill=\"none\" stroke=\"black\" d=\"M188.01,-58.37C198.67,-56.48 209.04,-54.63 218.3,-52.99\"/>\n",
       "<polygon fill=\"black\" stroke=\"black\" points=\"218.65,-56.48 227.88,-51.28 217.42,-49.59 218.65,-56.48\"/>\n",
       "</g>\n",
       "<!-- 4690231504 -->\n",
       "<g id=\"node3\" class=\"node\">\n",
       "<title>4690231504</title>\n",
       "<polygon fill=\"none\" stroke=\"black\" points=\"319.88,-28.5 319.88,-64.5 511.88,-64.5 511.88,-28.5 319.88,-28.5\"/>\n",
       "<text text-anchor=\"middle\" x=\"330.88\" y=\"-41.7\" font-family=\"Times,serif\" font-size=\"14.00\">e</text>\n",
       "<polyline fill=\"none\" stroke=\"black\" points=\"341.88,-29 341.88,-64.5\"/>\n",
       "<text text-anchor=\"middle\" x=\"384\" y=\"-41.7\" font-family=\"Times,serif\" font-size=\"14.00\">data &#45;6.0000</text>\n",
       "<polyline fill=\"none\" stroke=\"black\" points=\"426.12,-29 426.12,-64.5\"/>\n",
       "<text text-anchor=\"middle\" x=\"469\" y=\"-41.7\" font-family=\"Times,serif\" font-size=\"14.00\">grad &#45;2.0000</text>\n",
       "</g>\n",
       "<!-- 4690231504&#45;&gt;4871460624+ -->\n",
       "<g id=\"edge7\" class=\"edge\">\n",
       "<title>4690231504&#45;&gt;4871460624+</title>\n",
       "<path fill=\"none\" stroke=\"black\" d=\"M512.05,-62.75C521.28,-64.33 530.2,-65.85 538.29,-67.23\"/>\n",
       "<polygon fill=\"black\" stroke=\"black\" points=\"537.53,-70.65 547.98,-68.89 538.71,-63.75 537.53,-70.65\"/>\n",
       "</g>\n",
       "<!-- 4690231504*&#45;&gt;4690231504 -->\n",
       "<g id=\"edge1\" class=\"edge\">\n",
       "<title>4690231504*&#45;&gt;4690231504</title>\n",
       "<path fill=\"none\" stroke=\"black\" d=\"M283.22,-46.5C290.59,-46.5 299.09,-46.5 308.13,-46.5\"/>\n",
       "<polygon fill=\"black\" stroke=\"black\" points=\"307.89,-50 317.89,-46.5 307.89,-43 307.89,-50\"/>\n",
       "</g>\n",
       "<!-- 4871460624 -->\n",
       "<g id=\"node5\" class=\"node\">\n",
       "<title>4871460624</title>\n",
       "<polygon fill=\"none\" stroke=\"black\" points=\"639,-55.5 639,-91.5 827.25,-91.5 827.25,-55.5 639,-55.5\"/>\n",
       "<text text-anchor=\"middle\" x=\"650.38\" y=\"-68.7\" font-family=\"Times,serif\" font-size=\"14.00\">d</text>\n",
       "<polyline fill=\"none\" stroke=\"black\" points=\"661.75,-56 661.75,-91.5\"/>\n",
       "<text text-anchor=\"middle\" x=\"701.62\" y=\"-68.7\" font-family=\"Times,serif\" font-size=\"14.00\">data 4.0000</text>\n",
       "<polyline fill=\"none\" stroke=\"black\" points=\"741.5,-56 741.5,-91.5\"/>\n",
       "<text text-anchor=\"middle\" x=\"784.38\" y=\"-68.7\" font-family=\"Times,serif\" font-size=\"14.00\">grad &#45;2.0000</text>\n",
       "</g>\n",
       "<!-- 4690247568* -->\n",
       "<g id=\"node10\" class=\"node\">\n",
       "<title>4690247568*</title>\n",
       "<ellipse fill=\"none\" stroke=\"black\" cx=\"890.25\" cy=\"-45.5\" rx=\"27\" ry=\"18\"/>\n",
       "<text text-anchor=\"middle\" x=\"890.25\" y=\"-40.45\" font-family=\"Times,serif\" font-size=\"14.00\">*</text>\n",
       "</g>\n",
       "<!-- 4871460624&#45;&gt;4690247568* -->\n",
       "<g id=\"edge6\" class=\"edge\">\n",
       "<title>4871460624&#45;&gt;4690247568*</title>\n",
       "<path fill=\"none\" stroke=\"black\" d=\"M827.49,-56.65C836.36,-55.05 844.93,-53.5 852.73,-52.09\"/>\n",
       "<polygon fill=\"black\" stroke=\"black\" points=\"853.2,-55.56 862.42,-50.34 851.95,-48.68 853.2,-55.56\"/>\n",
       "</g>\n",
       "<!-- 4871460624+&#45;&gt;4871460624 -->\n",
       "<g id=\"edge2\" class=\"edge\">\n",
       "<title>4871460624+&#45;&gt;4871460624</title>\n",
       "<path fill=\"none\" stroke=\"black\" d=\"M603.31,-73.5C610.49,-73.5 618.72,-73.5 627.47,-73.5\"/>\n",
       "<polygon fill=\"black\" stroke=\"black\" points=\"627.29,-77 637.29,-73.5 627.29,-70 627.29,-77\"/>\n",
       "</g>\n",
       "<!-- 4696102160 -->\n",
       "<g id=\"node7\" class=\"node\">\n",
       "<title>4696102160</title>\n",
       "<polygon fill=\"none\" stroke=\"black\" points=\"0,-1.5 0,-37.5 192.75,-37.5 192.75,-1.5 0,-1.5\"/>\n",
       "<text text-anchor=\"middle\" x=\"11.38\" y=\"-14.7\" font-family=\"Times,serif\" font-size=\"14.00\">b</text>\n",
       "<polyline fill=\"none\" stroke=\"black\" points=\"22.75,-2 22.75,-37.5\"/>\n",
       "<text text-anchor=\"middle\" x=\"64.88\" y=\"-14.7\" font-family=\"Times,serif\" font-size=\"14.00\">data &#45;3.0000</text>\n",
       "<polyline fill=\"none\" stroke=\"black\" points=\"107,-2 107,-37.5\"/>\n",
       "<text text-anchor=\"middle\" x=\"149.88\" y=\"-14.7\" font-family=\"Times,serif\" font-size=\"14.00\">grad &#45;4.0000</text>\n",
       "</g>\n",
       "<!-- 4696102160&#45;&gt;4690231504* -->\n",
       "<g id=\"edge8\" class=\"edge\">\n",
       "<title>4696102160&#45;&gt;4690231504*</title>\n",
       "<path fill=\"none\" stroke=\"black\" d=\"M193,-35.91C201.81,-37.42 210.32,-38.88 218.06,-40.2\"/>\n",
       "<polygon fill=\"black\" stroke=\"black\" points=\"217.21,-43.61 227.66,-41.85 218.4,-36.71 217.21,-43.61\"/>\n",
       "</g>\n",
       "<!-- 4865977744 -->\n",
       "<g id=\"node8\" class=\"node\">\n",
       "<title>4865977744</title>\n",
       "<polygon fill=\"none\" stroke=\"black\" points=\"640.12,-0.5 640.12,-36.5 826.12,-36.5 826.12,-0.5 640.12,-0.5\"/>\n",
       "<text text-anchor=\"middle\" x=\"650.38\" y=\"-13.7\" font-family=\"Times,serif\" font-size=\"14.00\">f</text>\n",
       "<polyline fill=\"none\" stroke=\"black\" points=\"660.62,-1 660.62,-36.5\"/>\n",
       "<text text-anchor=\"middle\" x=\"702.75\" y=\"-13.7\" font-family=\"Times,serif\" font-size=\"14.00\">data &#45;2.0000</text>\n",
       "<polyline fill=\"none\" stroke=\"black\" points=\"744.88,-1 744.88,-36.5\"/>\n",
       "<text text-anchor=\"middle\" x=\"785.5\" y=\"-13.7\" font-family=\"Times,serif\" font-size=\"14.00\">grad 4.0000</text>\n",
       "</g>\n",
       "<!-- 4865977744&#45;&gt;4690247568* -->\n",
       "<g id=\"edge5\" class=\"edge\">\n",
       "<title>4865977744&#45;&gt;4690247568*</title>\n",
       "<path fill=\"none\" stroke=\"black\" d=\"M826.6,-34.6C835.76,-36.19 844.62,-37.73 852.67,-39.13\"/>\n",
       "<polygon fill=\"black\" stroke=\"black\" points=\"851.85,-42.54 862.3,-40.81 853.05,-35.65 851.85,-42.54\"/>\n",
       "</g>\n",
       "<!-- 4690247568 -->\n",
       "<g id=\"node9\" class=\"node\">\n",
       "<title>4690247568</title>\n",
       "<polygon fill=\"none\" stroke=\"black\" points=\"953.25,-27.5 953.25,-63.5 1143,-63.5 1143,-27.5 953.25,-27.5\"/>\n",
       "<text text-anchor=\"middle\" x=\"965.38\" y=\"-40.7\" font-family=\"Times,serif\" font-size=\"14.00\">L</text>\n",
       "<polyline fill=\"none\" stroke=\"black\" points=\"977.5,-28 977.5,-63.5\"/>\n",
       "<text text-anchor=\"middle\" x=\"1019.62\" y=\"-40.7\" font-family=\"Times,serif\" font-size=\"14.00\">data &#45;8.0000</text>\n",
       "<polyline fill=\"none\" stroke=\"black\" points=\"1061.75,-28 1061.75,-63.5\"/>\n",
       "<text text-anchor=\"middle\" x=\"1102.38\" y=\"-40.7\" font-family=\"Times,serif\" font-size=\"14.00\">grad 1.0000</text>\n",
       "</g>\n",
       "<!-- 4690247568*&#45;&gt;4690247568 -->\n",
       "<g id=\"edge3\" class=\"edge\">\n",
       "<title>4690247568*&#45;&gt;4690247568</title>\n",
       "<path fill=\"none\" stroke=\"black\" d=\"M917.69,-45.5C924.84,-45.5 933.03,-45.5 941.74,-45.5\"/>\n",
       "<polygon fill=\"black\" stroke=\"black\" points=\"941.51,-49 951.51,-45.5 941.51,-42 941.51,-49\"/>\n",
       "</g>\n",
       "</g>\n",
       "</svg>\n"
      ],
      "text/plain": [
       "<graphviz.graphs.Digraph at 0x1121c3090>"
      ]
     },
     "execution_count": 121,
     "metadata": {},
     "output_type": "execute_result"
    }
   ],
   "source": [
    "# manually setting grad values with respect to L\n",
    "L.grad = 1\n",
    "d.grad = -2.0\n",
    "f.grad = 4.0\n",
    "\n",
    "c.grad = 1 * -2.0\n",
    "e.grad = 1 * -2.0\n",
    "\n",
    "# (dL / de) * (de / da)\n",
    "a.grad = -2.0 * -3.0\n",
    "b.grad = -2.0 * 2.0\n",
    "\n",
    "\n",
    "draw_dot(L)"
   ]
  },
  {
   "cell_type": "code",
   "execution_count": 76,
   "metadata": {},
   "outputs": [
    {
     "data": {
      "image/svg+xml": [
       "<?xml version=\"1.0\" encoding=\"UTF-8\" standalone=\"no\"?>\n",
       "<!DOCTYPE svg PUBLIC \"-//W3C//DTD SVG 1.1//EN\"\n",
       " \"http://www.w3.org/Graphics/SVG/1.1/DTD/svg11.dtd\">\n",
       "<!-- Generated by graphviz version 10.0.1 (20240210.2158)\n",
       " -->\n",
       "<!-- Pages: 1 -->\n",
       "<svg width=\"246pt\" height=\"488pt\"\n",
       " viewBox=\"0.00 0.00 246.38 487.50\" xmlns=\"http://www.w3.org/2000/svg\" xmlns:xlink=\"http://www.w3.org/1999/xlink\">\n",
       "<g id=\"graph0\" class=\"graph\" transform=\"scale(1 1) rotate(0) translate(4 483.5)\">\n",
       "<polygon fill=\"white\" stroke=\"none\" points=\"-4,4 -4,-483.5 242.38,-483.5 242.38,4 -4,4\"/>\n",
       "<!-- 4865731664 -->\n",
       "<g id=\"node1\" class=\"node\">\n",
       "<title>4865731664</title>\n",
       "<polygon fill=\"none\" stroke=\"black\" points=\"0,-282.75 0,-356.25 86.5,-356.25 86.5,-282.75 0,-282.75\"/>\n",
       "<text text-anchor=\"middle\" x=\"43.25\" y=\"-338.95\" font-family=\"Times,serif\" font-size=\"14.00\">c</text>\n",
       "<polyline fill=\"none\" stroke=\"black\" points=\"0,-331.75 86.5,-331.75\"/>\n",
       "<text text-anchor=\"middle\" x=\"43.25\" y=\"-314.45\" font-family=\"Times,serif\" font-size=\"14.00\">data 10.0000</text>\n",
       "<polyline fill=\"none\" stroke=\"black\" points=\"0,-307.25 86.5,-307.25\"/>\n",
       "<text text-anchor=\"middle\" x=\"43.25\" y=\"-289.95\" font-family=\"Times,serif\" font-size=\"14.00\">grad 0.0000</text>\n",
       "</g>\n",
       "<!-- 4871460624 -->\n",
       "<g id=\"node4\" class=\"node\">\n",
       "<title>4871460624</title>\n",
       "<polygon fill=\"none\" stroke=\"black\" points=\"53.62,-135.5 53.62,-233.5 134.88,-233.5 134.88,-135.5 53.62,-135.5\"/>\n",
       "<text text-anchor=\"middle\" x=\"94.25\" y=\"-216.2\" font-family=\"Times,serif\" font-size=\"14.00\">+</text>\n",
       "<polyline fill=\"none\" stroke=\"black\" points=\"53.62,-209 134.88,-209\"/>\n",
       "<text text-anchor=\"middle\" x=\"94.25\" y=\"-191.7\" font-family=\"Times,serif\" font-size=\"14.00\">d</text>\n",
       "<polyline fill=\"none\" stroke=\"black\" points=\"53.62,-184.5 134.88,-184.5\"/>\n",
       "<text text-anchor=\"middle\" x=\"94.25\" y=\"-167.2\" font-family=\"Times,serif\" font-size=\"14.00\">data 4.0000</text>\n",
       "<polyline fill=\"none\" stroke=\"black\" points=\"53.62,-160 134.88,-160\"/>\n",
       "<text text-anchor=\"middle\" x=\"94.25\" y=\"-142.7\" font-family=\"Times,serif\" font-size=\"14.00\">grad 0.0000</text>\n",
       "</g>\n",
       "<!-- 4865731664&#45;&gt;4871460624 -->\n",
       "<g id=\"edge1\" class=\"edge\">\n",
       "<title>4865731664&#45;&gt;4871460624</title>\n",
       "<path fill=\"none\" stroke=\"black\" d=\"M57.05,-282.51C61.61,-270.61 66.81,-257.05 71.85,-243.91\"/>\n",
       "<polygon fill=\"black\" stroke=\"black\" points=\"74.98,-245.52 75.3,-234.93 68.45,-243.01 74.98,-245.52\"/>\n",
       "</g>\n",
       "<!-- 4696649296 -->\n",
       "<g id=\"node2\" class=\"node\">\n",
       "<title>4696649296</title>\n",
       "<polygon fill=\"none\" stroke=\"black\" points=\"54.62,-405.5 54.62,-479 135.88,-479 135.88,-405.5 54.62,-405.5\"/>\n",
       "<text text-anchor=\"middle\" x=\"95.25\" y=\"-461.7\" font-family=\"Times,serif\" font-size=\"14.00\">a</text>\n",
       "<polyline fill=\"none\" stroke=\"black\" points=\"54.62,-454.5 135.88,-454.5\"/>\n",
       "<text text-anchor=\"middle\" x=\"95.25\" y=\"-437.2\" font-family=\"Times,serif\" font-size=\"14.00\">data 2.0000</text>\n",
       "<polyline fill=\"none\" stroke=\"black\" points=\"54.62,-430 135.88,-430\"/>\n",
       "<text text-anchor=\"middle\" x=\"95.25\" y=\"-412.7\" font-family=\"Times,serif\" font-size=\"14.00\">grad 0.0000</text>\n",
       "</g>\n",
       "<!-- 4690231504 -->\n",
       "<g id=\"node3\" class=\"node\">\n",
       "<title>4690231504</title>\n",
       "<polygon fill=\"none\" stroke=\"black\" points=\"104.12,-270.5 104.12,-368.5 188.38,-368.5 188.38,-270.5 104.12,-270.5\"/>\n",
       "<text text-anchor=\"middle\" x=\"146.25\" y=\"-351.2\" font-family=\"Times,serif\" font-size=\"14.00\">*</text>\n",
       "<polyline fill=\"none\" stroke=\"black\" points=\"104.12,-344 188.38,-344\"/>\n",
       "<text text-anchor=\"middle\" x=\"146.25\" y=\"-326.7\" font-family=\"Times,serif\" font-size=\"14.00\">e</text>\n",
       "<polyline fill=\"none\" stroke=\"black\" points=\"104.12,-319.5 188.38,-319.5\"/>\n",
       "<text text-anchor=\"middle\" x=\"146.25\" y=\"-302.2\" font-family=\"Times,serif\" font-size=\"14.00\">data &#45;6.0000</text>\n",
       "<polyline fill=\"none\" stroke=\"black\" points=\"104.12,-295 188.38,-295\"/>\n",
       "<text text-anchor=\"middle\" x=\"146.25\" y=\"-277.7\" font-family=\"Times,serif\" font-size=\"14.00\">grad 0.0000</text>\n",
       "</g>\n",
       "<!-- 4696649296&#45;&gt;4690231504 -->\n",
       "<g id=\"edge6\" class=\"edge\">\n",
       "<title>4696649296&#45;&gt;4690231504</title>\n",
       "<path fill=\"none\" stroke=\"black\" d=\"M110.55,-405.02C113.97,-396.92 117.69,-388.13 121.38,-379.38\"/>\n",
       "<polygon fill=\"black\" stroke=\"black\" points=\"124.61,-380.74 125.27,-370.17 118.16,-378.02 124.61,-380.74\"/>\n",
       "</g>\n",
       "<!-- 4690231504&#45;&gt;4871460624 -->\n",
       "<g id=\"edge4\" class=\"edge\">\n",
       "<title>4690231504&#45;&gt;4871460624</title>\n",
       "<path fill=\"none\" stroke=\"black\" d=\"M127.33,-270.11C124.03,-261.66 120.56,-252.79 117.16,-244.1\"/>\n",
       "<polygon fill=\"black\" stroke=\"black\" points=\"120.52,-243.08 113.62,-235.04 114,-245.63 120.52,-243.08\"/>\n",
       "</g>\n",
       "<!-- 4690247568 -->\n",
       "<g id=\"node7\" class=\"node\">\n",
       "<title>4690247568</title>\n",
       "<polygon fill=\"none\" stroke=\"black\" points=\"102.12,-0.5 102.12,-98.5 186.38,-98.5 186.38,-0.5 102.12,-0.5\"/>\n",
       "<text text-anchor=\"middle\" x=\"144.25\" y=\"-81.2\" font-family=\"Times,serif\" font-size=\"14.00\">*</text>\n",
       "<polyline fill=\"none\" stroke=\"black\" points=\"102.12,-74 186.38,-74\"/>\n",
       "<text text-anchor=\"middle\" x=\"144.25\" y=\"-56.7\" font-family=\"Times,serif\" font-size=\"14.00\">L</text>\n",
       "<polyline fill=\"none\" stroke=\"black\" points=\"102.12,-49.5 186.38,-49.5\"/>\n",
       "<text text-anchor=\"middle\" x=\"144.25\" y=\"-32.2\" font-family=\"Times,serif\" font-size=\"14.00\">data &#45;8.0000</text>\n",
       "<polyline fill=\"none\" stroke=\"black\" points=\"102.12,-25 186.38,-25\"/>\n",
       "<text text-anchor=\"middle\" x=\"144.25\" y=\"-7.7\" font-family=\"Times,serif\" font-size=\"14.00\">grad 0.0000</text>\n",
       "</g>\n",
       "<!-- 4871460624&#45;&gt;4690247568 -->\n",
       "<g id=\"edge3\" class=\"edge\">\n",
       "<title>4871460624&#45;&gt;4690247568</title>\n",
       "<path fill=\"none\" stroke=\"black\" d=\"M112.44,-135.11C115.58,-126.75 118.88,-117.98 122.11,-109.39\"/>\n",
       "<polygon fill=\"black\" stroke=\"black\" points=\"125.38,-110.64 125.62,-100.05 118.83,-108.18 125.38,-110.64\"/>\n",
       "</g>\n",
       "<!-- 4696102160 -->\n",
       "<g id=\"node5\" class=\"node\">\n",
       "<title>4696102160</title>\n",
       "<polygon fill=\"none\" stroke=\"black\" points=\"154.12,-405.5 154.12,-479 238.38,-479 238.38,-405.5 154.12,-405.5\"/>\n",
       "<text text-anchor=\"middle\" x=\"196.25\" y=\"-461.7\" font-family=\"Times,serif\" font-size=\"14.00\">b</text>\n",
       "<polyline fill=\"none\" stroke=\"black\" points=\"154.12,-454.5 238.38,-454.5\"/>\n",
       "<text text-anchor=\"middle\" x=\"196.25\" y=\"-437.2\" font-family=\"Times,serif\" font-size=\"14.00\">data &#45;3.0000</text>\n",
       "<polyline fill=\"none\" stroke=\"black\" points=\"154.12,-430 238.38,-430\"/>\n",
       "<text text-anchor=\"middle\" x=\"196.25\" y=\"-412.7\" font-family=\"Times,serif\" font-size=\"14.00\">grad 0.0000</text>\n",
       "</g>\n",
       "<!-- 4696102160&#45;&gt;4690231504 -->\n",
       "<g id=\"edge5\" class=\"edge\">\n",
       "<title>4696102160&#45;&gt;4690231504</title>\n",
       "<path fill=\"none\" stroke=\"black\" d=\"M181.25,-405.02C177.89,-396.92 174.25,-388.13 170.63,-379.38\"/>\n",
       "<polygon fill=\"black\" stroke=\"black\" points=\"173.88,-378.07 166.82,-370.17 167.41,-380.75 173.88,-378.07\"/>\n",
       "</g>\n",
       "<!-- 4865977744 -->\n",
       "<g id=\"node6\" class=\"node\">\n",
       "<title>4865977744</title>\n",
       "<polygon fill=\"none\" stroke=\"black\" points=\"153.12,-147.75 153.12,-221.25 237.38,-221.25 237.38,-147.75 153.12,-147.75\"/>\n",
       "<text text-anchor=\"middle\" x=\"195.25\" y=\"-203.95\" font-family=\"Times,serif\" font-size=\"14.00\">f</text>\n",
       "<polyline fill=\"none\" stroke=\"black\" points=\"153.12,-196.75 237.38,-196.75\"/>\n",
       "<text text-anchor=\"middle\" x=\"195.25\" y=\"-179.45\" font-family=\"Times,serif\" font-size=\"14.00\">data &#45;2.0000</text>\n",
       "<polyline fill=\"none\" stroke=\"black\" points=\"153.12,-172.25 237.38,-172.25\"/>\n",
       "<text text-anchor=\"middle\" x=\"195.25\" y=\"-154.95\" font-family=\"Times,serif\" font-size=\"14.00\">grad 0.0000</text>\n",
       "</g>\n",
       "<!-- 4865977744&#45;&gt;4690247568 -->\n",
       "<g id=\"edge2\" class=\"edge\">\n",
       "<title>4865977744&#45;&gt;4690247568</title>\n",
       "<path fill=\"none\" stroke=\"black\" d=\"M181.45,-147.51C176.89,-135.61 171.69,-122.05 166.65,-108.91\"/>\n",
       "<polygon fill=\"black\" stroke=\"black\" points=\"170.05,-108.01 163.2,-99.93 163.52,-110.52 170.05,-108.01\"/>\n",
       "</g>\n",
       "</g>\n",
       "</svg>\n"
      ],
      "text/plain": [
       "<graphviz.graphs.Digraph at 0x12201a1d0>"
      ]
     },
     "execution_count": 76,
     "metadata": {},
     "output_type": "execute_result"
    }
   ],
   "source": [
    "def draw_dot(root):\n",
    "  dot = Digraph(format='svg', graph_attr={'rankdir':'DT'}) # LR - left to right\n",
    "  nodes, edges = trace(root)\n",
    "\n",
    "  for n in nodes:\n",
    "    uid = str(id(n))\n",
    "\n",
    "    if n._op:\n",
    "      dot.node(name=uid, label=\"{ %s | %s | data %.4f | grad %.4f }\" % (n._op, n.label, n.data, n.grad), shape='record')\n",
    "    else:\n",
    "      dot.node(name=uid, label=\"{ %s | data %.4f | grad %.4f }\" % (n.label, n.data, n.grad), shape='record')\n",
    "\n",
    "  for n1, n2 in edges:\n",
    "    # connect n1 to the op node of n2\n",
    "    dot.edge(str(id(n1)), str(id(n2)))\n",
    "\n",
    "  return dot\n",
    "\n",
    "draw_dot(L)"
   ]
  },
  {
   "cell_type": "code",
   "execution_count": 122,
   "metadata": {},
   "outputs": [
    {
     "name": "stdout",
     "output_type": "stream",
     "text": [
      "6.000000000021544\n"
     ]
    }
   ],
   "source": [
    "def num_grad_example():\n",
    "  h = 0.0001\n",
    "\n",
    "  a = Value(2.0, label='a')\n",
    "  b = Value(-3.0, label='b')\n",
    "  c = Value(10.0, label='c')\n",
    "  e = a*b; e.label='e'\n",
    "\n",
    "  d = e + c; d.label='d'\n",
    "\n",
    "  f = Value(-2.0, label='f')\n",
    "  L = d*f; L.label='L'\n",
    "  L1 = L.data\n",
    "  \n",
    "  a = Value(2.0, label='a')\n",
    "  a.data += h\n",
    "  b = Value(-3.0, label='b')\n",
    "  c = Value(10.0, label='c')\n",
    "  e = a*b; e.label='e'\n",
    "  d = e + c; d.label='d'\n",
    "\n",
    "\n",
    "  f = Value(-2.0, label='f')\n",
    "  L = d*f; L.label='L'\n",
    "\n",
    "  L2 = L.data\n",
    "\n",
    "  print((L2 - L1) / h)\n",
    "\n",
    "num_grad_example()"
   ]
  },
  {
   "cell_type": "code",
   "execution_count": 123,
   "metadata": {},
   "outputs": [
    {
     "data": {
      "text/plain": [
       "0.24999998515795596"
      ]
     },
     "execution_count": 123,
     "metadata": {},
     "output_type": "execute_result"
    }
   ],
   "source": [
    "def f(x): \n",
    "  return x*0.25\n",
    "\n",
    "# avg rate of change of f(x) over interval [x, x + h]\n",
    "def der(f, x, h):\n",
    "  return (f(x + h) - f(x)) / h\n",
    "\n",
    "der(f = f, x = 50, h = 0.00000005)"
   ]
  },
  {
   "cell_type": "code",
   "execution_count": 1,
   "metadata": {},
   "outputs": [
    {
     "name": "stdout",
     "output_type": "stream",
     "text": [
      "The point (45, 55) is inside the circle.\n"
     ]
    }
   ],
   "source": [
    "def is_point_inside_circle(x, y, center_x, center_y, radius):\n",
    "    # Calculate the distance from the point to the center of the circle\n",
    "    distance_squared = (x - center_x)**2 + (y - center_y)**2\n",
    "\n",
    "    # Check if the distance is less than or equal to the square of the radius\n",
    "    return distance_squared <= radius**2\n",
    "\n",
    "# Example usage\n",
    "circle_radius = 50\n",
    "circle_center_x = 30\n",
    "circle_center_y = 40\n",
    "point_x = 45\n",
    "point_y = 55\n",
    "\n",
    "if is_point_inside_circle(point_x, point_y, circle_center_x, circle_center_y, circle_radius):\n",
    "    print(f\"The point ({point_x}, {point_y}) is inside the circle.\")\n",
    "else:\n",
    "    print(f\"The point ({point_x}, {point_y}) is outside the circle.\")"
   ]
  }
 ],
 "metadata": {
  "kernelspec": {
   "display_name": "Python 3",
   "language": "python",
   "name": "python3"
  },
  "language_info": {
   "codemirror_mode": {
    "name": "ipython",
    "version": 3
   },
   "file_extension": ".py",
   "mimetype": "text/x-python",
   "name": "python",
   "nbconvert_exporter": "python",
   "pygments_lexer": "ipython3",
   "version": "3.11.7"
  }
 },
 "nbformat": 4,
 "nbformat_minor": 2
}
